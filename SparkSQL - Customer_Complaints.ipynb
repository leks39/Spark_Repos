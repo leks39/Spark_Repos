{
 "cells": [
  {
   "cell_type": "markdown",
   "id": "801096e2-a6a2-4c8b-9269-759caf209807",
   "metadata": {},
   "source": [
    "## SPARK SQL QUERIES"
   ]
  },
  {
   "cell_type": "markdown",
   "id": "8d9b3920-11cc-4362-bd29-44aa7a651c85",
   "metadata": {},
   "source": [
    "This notebook contains Spark SQL queries.\n",
    "\n",
    "The following SQl Functions were exectuted using PySpark Syntax\n",
    "\n",
    "* Basic SQL Functions (Select, Group By, Where, Order by)\n",
    "* Sampling using Table Sample\n",
    "* Window Functions\n",
    "* Datetime Manupulation\n",
    "* Case Statements"
   ]
  },
  {
   "cell_type": "markdown",
   "id": "c840cdde-239f-40d7-80db-1262a75c745a",
   "metadata": {},
   "source": [
    "### Import Libraries and Loading Dataset"
   ]
  },
  {
   "cell_type": "code",
   "execution_count": 1,
   "id": "2ca5bb2e-b1b8-4d49-b121-a2d66bcc01fa",
   "metadata": {},
   "outputs": [],
   "source": [
    "#Before running anything on Spark import a Spark Session\n",
    "from pyspark.sql import SparkSession"
   ]
  },
  {
   "cell_type": "code",
   "execution_count": 2,
   "id": "0f27946f-9b1a-42ef-9191-afd73bfe89f0",
   "metadata": {},
   "outputs": [
    {
     "data": {
      "text/html": [
       "\n",
       "            <div>\n",
       "                <p><b>SparkSession - in-memory</b></p>\n",
       "                \n",
       "        <div>\n",
       "            <p><b>SparkContext</b></p>\n",
       "\n",
       "            <p><a href=\"http://DESKTOP-VOMCIO1.home:4040\">Spark UI</a></p>\n",
       "\n",
       "            <dl>\n",
       "              <dt>Version</dt>\n",
       "                <dd><code>v3.4.1</code></dd>\n",
       "              <dt>Master</dt>\n",
       "                <dd><code>local[*]</code></dd>\n",
       "              <dt>AppName</dt>\n",
       "                <dd><code>customer_complaint</code></dd>\n",
       "            </dl>\n",
       "        </div>\n",
       "        \n",
       "            </div>\n",
       "        "
      ],
      "text/plain": [
       "<pyspark.sql.session.SparkSession at 0x161a3297ac0>"
      ]
     },
     "execution_count": 2,
     "metadata": {},
     "output_type": "execute_result"
    }
   ],
   "source": [
    "#Create a spark variable name for the session\n",
    "spark = SparkSession.builder.appName('customer_complaint').getOrCreate()\n",
    "spark"
   ]
  },
  {
   "cell_type": "code",
   "execution_count": 3,
   "id": "3d29ca86-df53-45d3-964d-86757c829224",
   "metadata": {},
   "outputs": [
    {
     "name": "stdout",
     "output_type": "stream",
     "text": [
      "root\n",
      " |-- Date: string (nullable = true)\n",
      " |-- Product_Name: string (nullable = true)\n",
      " |-- Sub_Product: string (nullable = true)\n",
      " |-- Dispute_Amount: integer (nullable = true)\n",
      " |-- Issue: string (nullable = true)\n",
      " |-- Sub_Issue: string (nullable = true)\n",
      " |-- Company: string (nullable = true)\n",
      " |-- State_Code: string (nullable = true)\n",
      " |-- Zip_Code: string (nullable = true)\n",
      " |-- Tags: string (nullable = true)\n",
      " |-- Consent_Provided: string (nullable = true)\n",
      " |-- Submitted_Via: string (nullable = true)\n",
      " |-- Response_Stage: string (nullable = true)\n",
      " |-- Timely_Response: string (nullable = true)\n",
      " |-- Consumer_Disputed: string (nullable = true)\n",
      " |-- Complaint_ID: integer (nullable = true)\n",
      "\n"
     ]
    }
   ],
   "source": [
    "#read the dataset\n",
    "complaint_df = spark.read.option('header', 'true').csv('C:\\\\Users\\\\User\\\\customer_complaints.csv', inferSchema = True)\n",
    "\n",
    "#check schema (dtypes)\n",
    "complaint_df.printSchema()"
   ]
  },
  {
   "cell_type": "code",
   "execution_count": 4,
   "id": "4fb2d946-9aed-44c1-8240-9996cdf2e1fc",
   "metadata": {},
   "outputs": [
    {
     "name": "stdout",
     "output_type": "stream",
     "text": [
      "+---------+--------------------+--------------------+--------------+--------------------+----------------+--------------------+----------+--------+--------------+----------------+-------------+--------------------+---------------+-----------------+------------+\n",
      "|     Date|        Product_Name|         Sub_Product|Dispute_Amount|               Issue|       Sub_Issue|             Company|State_Code|Zip_Code|          Tags|Consent_Provided|Submitted_Via|      Response_Stage|Timely_Response|Consumer_Disputed|Complaint_ID|\n",
      "+---------+--------------------+--------------------+--------------+--------------------+----------------+--------------------+----------+--------+--------------+----------------+-------------+--------------------+---------------+-----------------+------------+\n",
      "|7/29/2013|       Consumer Loan|        Vehicle loan|         17113|Managing the loan...|            null|Wells Fargo & Com...|        VA|   24540|          null|             N/A|        Phone|Closed with expla...|            Yes|               No|      468882|\n",
      "|7/29/2013|Bank account or s...|    Checking account|         12745|Using a debit or ...|            null|Wells Fargo & Com...|        CA|   95992|Older American|             N/A|          Web|Closed with expla...|            Yes|               No|      468889|\n",
      "|7/29/2013|Bank account or s...|    Checking account|         11654|Account opening, ...|            null|   Santander Bank US|        NY|   10065|          null|             N/A|          Fax|              Closed|            Yes|               No|      468879|\n",
      "|7/29/2013|Bank account or s...|    Checking account|         18322|Deposits and with...|            null|Wells Fargo & Com...|        GA|   30084|          null|             N/A|          Web|Closed with expla...|            Yes|               No|      468949|\n",
      "|7/29/2013|            Mortgage|Conventional fixe...|         12041|Loan servicing, p...|            null|Franklin Credit M...|        CT|    6106|          null|             N/A|          Web|Closed with expla...|            Yes|               No|      475823|\n",
      "|7/29/2013|Bank account or s...|    Checking account|          5043|Deposits and with...|            null|     Bank of America|        TX|   75025|          null|             N/A|          Web|Closed with expla...|            Yes|               No|      468981|\n",
      "|7/29/2013|     Debt collection|Other (i.e. phone...|          9280|Cont'd attempts c...|Debt is not mine|      NRA Group, LLC|        VA|   20147|          null|             N/A|          Web|Closed with non-m...|            Yes|               No|      467801|\n",
      "|7/29/2013|     Debt collection|       I do not know|          7536|Cont'd attempts c...|   Debt was paid|SunTrust Banks, Inc.|        FL|   32818|          null|             N/A|     Referral|Closed with expla...|            Yes|              Yes|      475728|\n",
      "|7/29/2013|         Credit card|                null|         10619|   Billing statement|            null|            Citibank|        OH|   45247|          null|             N/A|     Referral|Closed with expla...|            Yes|              Yes|      469026|\n",
      "|7/29/2013|            Mortgage|      Other mortgage|         19468|Loan servicing, p...|            null|Wells Fargo & Com...|        NV|   89511|          null|             N/A|     Referral|Closed with expla...|            Yes|              Yes|      469035|\n",
      "+---------+--------------------+--------------------+--------------+--------------------+----------------+--------------------+----------+--------+--------------+----------------+-------------+--------------------+---------------+-----------------+------------+\n",
      "only showing top 10 rows\n",
      "\n"
     ]
    }
   ],
   "source": [
    "#show first 10 rows of dataset\n",
    "spark.read.option('header', 'true').csv('C:\\\\Users\\\\User\\\\customer_complaints.csv').show(10)"
   ]
  },
  {
   "cell_type": "markdown",
   "id": "318ea2df-9d74-45d5-8f47-ac1ddc878ecb",
   "metadata": {},
   "source": [
    "### SQL Queries"
   ]
  },
  {
   "cell_type": "markdown",
   "id": "24c1c94d-42c9-4699-9d08-e0e58b936477",
   "metadata": {},
   "source": [
    "Before writing SQL queries in Spark, a temporary table has to be created to reflect the tables to be queried. Also, every query start with spark.sql( ) command."
   ]
  },
  {
   "cell_type": "code",
   "execution_count": 5,
   "id": "b3f39c0e-c6ee-47b2-bd4d-fdc22aaea4d9",
   "metadata": {},
   "outputs": [],
   "source": [
    "#creating temp table\n",
    "complaint_df.createOrReplaceTempView('complaint_df')"
   ]
  },
  {
   "cell_type": "markdown",
   "id": "1e41c591-7d7d-4bc6-886d-1d9cb281a4fe",
   "metadata": {},
   "source": [
    "#### Query 1: Selecting all from Table"
   ]
  },
  {
   "cell_type": "code",
   "execution_count": 6,
   "id": "4b721260-0ca9-40d2-8e56-8c089bdbdd9a",
   "metadata": {},
   "outputs": [
    {
     "name": "stdout",
     "output_type": "stream",
     "text": [
      "+---------+--------------------+--------------------+--------------+--------------------+--------------------+--------------------+----------+--------+--------------+----------------+-------------+--------------------+---------------+-----------------+------------+\n",
      "|     Date|        Product_Name|         Sub_Product|Dispute_Amount|               Issue|           Sub_Issue|             Company|State_Code|Zip_Code|          Tags|Consent_Provided|Submitted_Via|      Response_Stage|Timely_Response|Consumer_Disputed|Complaint_ID|\n",
      "+---------+--------------------+--------------------+--------------+--------------------+--------------------+--------------------+----------+--------+--------------+----------------+-------------+--------------------+---------------+-----------------+------------+\n",
      "|7/29/2013|       Consumer Loan|        Vehicle loan|         17113|Managing the loan...|                null|Wells Fargo & Com...|        VA|   24540|          null|             N/A|        Phone|Closed with expla...|            Yes|               No|      468882|\n",
      "|7/29/2013|Bank account or s...|    Checking account|         12745|Using a debit or ...|                null|Wells Fargo & Com...|        CA|   95992|Older American|             N/A|          Web|Closed with expla...|            Yes|               No|      468889|\n",
      "|7/29/2013|Bank account or s...|    Checking account|         11654|Account opening, ...|                null|   Santander Bank US|        NY|   10065|          null|             N/A|          Fax|              Closed|            Yes|               No|      468879|\n",
      "|7/29/2013|Bank account or s...|    Checking account|         18322|Deposits and with...|                null|Wells Fargo & Com...|        GA|   30084|          null|             N/A|          Web|Closed with expla...|            Yes|               No|      468949|\n",
      "|7/29/2013|            Mortgage|Conventional fixe...|         12041|Loan servicing, p...|                null|Franklin Credit M...|        CT|    6106|          null|             N/A|          Web|Closed with expla...|            Yes|               No|      475823|\n",
      "|7/29/2013|Bank account or s...|    Checking account|          5043|Deposits and with...|                null|     Bank of America|        TX|   75025|          null|             N/A|          Web|Closed with expla...|            Yes|               No|      468981|\n",
      "|7/29/2013|     Debt collection|Other (i.e. phone...|          9280|Cont'd attempts c...|    Debt is not mine|      NRA Group, LLC|        VA|   20147|          null|             N/A|          Web|Closed with non-m...|            Yes|               No|      467801|\n",
      "|7/29/2013|     Debt collection|       I do not know|          7536|Cont'd attempts c...|       Debt was paid|SunTrust Banks, Inc.|        FL|   32818|          null|             N/A|     Referral|Closed with expla...|            Yes|              Yes|      475728|\n",
      "|7/29/2013|         Credit card|                null|         10619|   Billing statement|                null|            Citibank|        OH|   45247|          null|             N/A|     Referral|Closed with expla...|            Yes|              Yes|      469026|\n",
      "|7/29/2013|            Mortgage|      Other mortgage|         19468|Loan servicing, p...|                null|Wells Fargo & Com...|        NV|   89511|          null|             N/A|     Referral|Closed with expla...|            Yes|              Yes|      469035|\n",
      "|7/29/2013|            Mortgage|      Other mortgage|         13421|Loan modification...|                null|     Bank of America|        NC|   27949|          null|             N/A|     Referral|Closed with non-m...|            Yes|               No|      469037|\n",
      "|7/29/2013|            Mortgage|      Other mortgage|         17830|Loan servicing, p...|                null|JPMorgan Chase & Co.|        CA|   90703|          null|             N/A|     Referral|Closed with expla...|            Yes|               No|      469284|\n",
      "|7/29/2013|            Mortgage|      Other mortgage|          6478|Loan modification...|                null|            Citibank|        CA|   95821|          null|             N/A|     Referral|Closed with expla...|            Yes|              Yes|      480488|\n",
      "|7/29/2013|     Debt collection|         Credit card|         15907|Communication tac...|Frequent or repea...|Asset Management ...|        PA|   19145|Older American|             N/A|        Phone|Closed with expla...|             No|             null|      468904|\n",
      "|7/29/2013|     Debt collection|         Credit card|          2741|Communication tac...|Frequent or repea...|Wells Fargo & Com...|        PA|   19145|Older American|             N/A|        Phone|Closed with non-m...|            Yes|               No|      468905|\n",
      "|7/29/2013|            Mortgage|Conventional fixe...|         13203|Loan modification...|                null|JPMorgan Chase & Co.|        NY|   14092|          null|             N/A|        Phone|Closed with expla...|            Yes|               No|      469057|\n",
      "|7/29/2013|            Mortgage|Conventional fixe...|         11188|Loan modification...|                null|               Ocwen|        FL|   33426|          null|             N/A|          Web|Closed with expla...|            Yes|              Yes|      469060|\n",
      "|7/29/2013|            Mortgage|Conventional fixe...|         12798|Loan modification...|                null|JPMorgan Chase & Co.|        NY|   10019|          null|             N/A|          Web|Closed with expla...|            Yes|              Yes|      469070|\n",
      "|7/29/2013|            Mortgage|Conventional fixe...|         11472|Loan servicing, p...|                null|            Citibank|        NJ|    7604|          null|             N/A|          Web|Closed with expla...|            Yes|               No|      472236|\n",
      "|7/29/2013|         Credit card|                null|         10724|APR or interest rate|                null| Synchrony Financial|        WA|   98548|          null|             N/A|          Web|Closed with monet...|            Yes|               No|      469131|\n",
      "+---------+--------------------+--------------------+--------------+--------------------+--------------------+--------------------+----------+--------+--------------+----------------+-------------+--------------------+---------------+-----------------+------------+\n",
      "only showing top 20 rows\n",
      "\n"
     ]
    }
   ],
   "source": [
    "spark.sql('select * from complaint_df').show()"
   ]
  },
  {
   "cell_type": "code",
   "execution_count": 7,
   "id": "3a92a7a5-26e2-4a44-82b3-80b93c8b113b",
   "metadata": {},
   "outputs": [
    {
     "data": {
      "text/plain": [
       "65499"
      ]
     },
     "execution_count": 7,
     "metadata": {},
     "output_type": "execute_result"
    }
   ],
   "source": [
    "#counting number of rows in table\n",
    "complaint_df.count()"
   ]
  },
  {
   "cell_type": "markdown",
   "id": "daf31d56-45c6-4501-b24c-bb849262cade",
   "metadata": {},
   "source": [
    "#### Query 2 - Selecting a Sample of Rows from the Table"
   ]
  },
  {
   "cell_type": "markdown",
   "id": "ea9c50a0-a81a-4d51-ae31-c25e7de44d78",
   "metadata": {},
   "source": [
    "The Table Sample statement is used to select sample of rows from a table. \n",
    "It supports the following sampling methods:\n",
    "\n",
    "Tablesample(x ROWS): Sample the table down to the given number of rows\n",
    "\n",
    "Tablesample(x PERCENT): Sample the table down to the given percentage\n",
    "\n",
    "Tablesample(BUCKET x OUT OF y): Sample the table down to a x out of y fraction"
   ]
  },
  {
   "cell_type": "code",
   "execution_count": 8,
   "id": "5af33aff-cbec-444e-99a4-f8cfd0280bd8",
   "metadata": {
    "scrolled": true,
    "tags": []
   },
   "outputs": [
    {
     "name": "stdout",
     "output_type": "stream",
     "text": [
      "+----------+--------------------+--------------------+--------------+--------------------+--------------------+--------------------+----------+--------+--------------+----------------+-------------+--------------------+---------------+-----------------+------------+\n",
      "|      Date|        Product_Name|         Sub_Product|Dispute_Amount|               Issue|           Sub_Issue|             Company|State_Code|Zip_Code|          Tags|Consent_Provided|Submitted_Via|      Response_Stage|Timely_Response|Consumer_Disputed|Complaint_ID|\n",
      "+----------+--------------------+--------------------+--------------+--------------------+--------------------+--------------------+----------+--------+--------------+----------------+-------------+--------------------+---------------+-----------------+------------+\n",
      "| 7/30/2013|         Credit card|                null|          2586|Advertising and m...|                null|First National Ba...|        VT|    5069|          null|             N/A|          Web|Closed with expla...|            Yes|               No|      470330|\n",
      "| 8/13/2013|            Mortgage|      Other mortgage|          4622|Loan servicing, p...|                null|JPMorgan Chase & Co.|        FL|   33309|          null|             N/A|     Referral|Closed with expla...|            Yes|               No|      491475|\n",
      "| 8/13/2013|     Debt collection|Other (i.e. phone...|         14091|Communication tac...|Frequent or repea...|      CashCall, Inc.|        OH|   43615|          null|             N/A|        Phone|Closed with expla...|            Yes|               No|      491634|\n",
      "| 9/18/2013|         Credit card|                null|          4516|            Late fee|                null| Synchrony Financial|        NY|   11779|          null|             N/A|     Referral|Closed with monet...|            Yes|               No|      531767|\n",
      "| 10/8/2013|Bank account or s...|    Checking account|          9275|Deposits and with...|                null|       PNC Bank N.A.|        OH|   44126|          null|             N/A|     Referral|Closed with monet...|            Yes|              Yes|      555385|\n",
      "|11/24/2013|            Mortgage|    Reverse mortgage|          2734|Loan modification...|                null|CIT Bank National...|        MD|   20743|Older American|             N/A|          Web|Closed with expla...|            Yes|               No|      609701|\n",
      "|12/21/2013|     Debt collection|                Auto|          8710|Cont'd attempts c...|    Debt is not mine|Caine & Weiner Co...|        NY|   11566|          null|             N/A|          Web|Closed with expla...|            Yes|               No|      641534|\n",
      "| 1/11/2014|     Debt collection|Other (i.e. phone...|         17757|Cont'd attempts c...|    Debt is not mine|Dynamic Recovery ...|        MO|   63049| Servicemember|             N/A|          Web|              Closed|            Yes|               No|      664470|\n",
      "|  2/4/2014|         Credit card|                null|          4422|    Billing disputes|                null|        USAA Savings|        MN|   55332|          null|             N/A|     Referral|Closed with monet...|            Yes|               No|      698360|\n",
      "| 2/24/2014|Bank account or s...|     Savings account|          7885|Deposits and with...|                null|Wells Fargo & Com...|        NY|   11378|          null|             N/A|     Referral|Closed with expla...|            Yes|               No|      732144|\n",
      "| 1/30/2014|     Debt collection|       I do not know|          8085|Communication tac...|Frequent or repea...|Mercantile Adjust...|        CO|   80215|          null|             N/A|          Web|Closed with expla...|            Yes|              Yes|      692584|\n",
      "| 2/26/2014|            Mortgage|      Other mortgage|          9252|Loan modification...|                null|M&T Bank Corporation|        NJ|    7083|          null|             N/A|     Referral|Closed with expla...|            Yes|               No|      732928|\n",
      "| 3/12/2014|         Payday loan|         Payday loan|          7922|Charged fees or i...|Charged fees or i...|Enova Internation...|        MD|   20708|          null|             N/A|          Web|Closed with expla...|            Yes|               No|      755879|\n",
      "| 2/26/2014|            Mortgage|      Other mortgage|         19359|Loan modification...|                null|               Ocwen|        CA|   94526|          null|             N/A|  Postal mail|Closed with expla...|            Yes|               No|      732142|\n",
      "| 3/10/2014|         Credit card|                null|         17364|Customer service ...|                null|            Citibank|        MD|   21122|          null|             N/A|          Web|Closed with expla...|            Yes|              Yes|      753675|\n",
      "| 3/24/2014|     Debt collection|         Credit card|          6071|Cont'd attempts c...|       Debt was paid|Convergent Resour...|        CA|   90720|          null|             N/A|        Phone|Closed with expla...|            Yes|               No|      774920|\n",
      "| 3/24/2014|Bank account or s...|    Checking account|          1398|Using a debit or ...|                null|     Bank of America|        IL|   60163|          null|             N/A|          Web|Closed with expla...|            Yes|               No|      775047|\n",
      "| 4/17/2014|    Credit reporting|                null|          8424|Incorrect informa...|Information is no...|TransUnion Interm...|        KY|   40270|          null|             N/A|     Referral|Closed with expla...|            Yes|               No|      813980|\n",
      "|  4/8/2014|Bank account or s...|    Checking account|         13034|Account opening, ...|                null|       PNC Bank N.A.|        DE|   19970|          null|             N/A|        Phone|Closed with expla...|            Yes|               No|      798908|\n",
      "| 4/20/2014|Bank account or s...|    Checking account|          7938|Deposits and with...|                null|     Bank of America|        FL|   32812|          null|             N/A|          Web|Closed with expla...|            Yes|               No|      816136|\n",
      "+----------+--------------------+--------------------+--------------+--------------------+--------------------+--------------------+----------+--------+--------------+----------------+-------------+--------------------+---------------+-----------------+------------+\n",
      "only showing top 20 rows\n",
      "\n"
     ]
    }
   ],
   "source": [
    "spark.sql('select * from complaint_df Tablesample (0.1 Percent)').show()"
   ]
  },
  {
   "cell_type": "code",
   "execution_count": 9,
   "id": "2812ec07-2cd9-40b1-b8ac-5811a0f36996",
   "metadata": {},
   "outputs": [
    {
     "data": {
      "text/plain": [
       "54"
      ]
     },
     "execution_count": 9,
     "metadata": {},
     "output_type": "execute_result"
    }
   ],
   "source": [
    "#saving Query 2 into a df\n",
    "sample_df = spark.sql('select * from complaint_df Tablesample (0.1 Percent)')\n",
    "\n",
    "#counting number of rows in table\n",
    "sample_df.count()"
   ]
  },
  {
   "cell_type": "markdown",
   "id": "857245b3-035d-4c2d-94bb-62f2838b5cf1",
   "metadata": {},
   "source": [
    "##### Obersvation"
   ]
  },
  {
   "cell_type": "markdown",
   "id": "6bbaf8c7-2fd1-44d0-b625-40b4d3952a08",
   "metadata": {},
   "source": [
    "Full complaint_df has 65499 rows while sample_df (0.1%) of complaint_df has 67 rows"
   ]
  },
  {
   "cell_type": "markdown",
   "id": "15a587ac-331a-42cf-80ab-68eb4a9c92d6",
   "metadata": {},
   "source": [
    "#### Query 3 - Identying count of each complaint type using Group By Clause"
   ]
  },
  {
   "cell_type": "code",
   "execution_count": 10,
   "id": "776606ff-5554-4d27-b986-bbd0d2b82713",
   "metadata": {},
   "outputs": [
    {
     "name": "stdout",
     "output_type": "stream",
     "text": [
      "+--------------------+-----------+\n",
      "|        Product_Name|N_Complaint|\n",
      "+--------------------+-----------+\n",
      "|            Mortgage|      18734|\n",
      "|     Debt collection|      16106|\n",
      "|    Credit reporting|      12092|\n",
      "|Bank account or s...|       6540|\n",
      "|         Credit card|       6472|\n",
      "|       Consumer Loan|       2343|\n",
      "|        Student loan|       1827|\n",
      "|         Payday loan|        633|\n",
      "|     Money transfers|        507|\n",
      "|        Prepaid card|        190|\n",
      "|Other financial s...|         55|\n",
      "+--------------------+-----------+\n",
      "\n"
     ]
    }
   ],
   "source": [
    "spark.sql('select Product_Name, count(*) as N_Complaint from complaint_df group by Product_Name order by N_Complaint desc').show()"
   ]
  },
  {
   "cell_type": "code",
   "execution_count": 11,
   "id": "07451e6f-e121-4909-adb6-676974410bfb",
   "metadata": {},
   "outputs": [
    {
     "name": "stdout",
     "output_type": "stream",
     "text": [
      "+--------------------+-----------+\n",
      "|        Product_Name|N_Complaint|\n",
      "+--------------------+-----------+\n",
      "|            Mortgage|      18734|\n",
      "|     Debt collection|      16106|\n",
      "|    Credit reporting|      12092|\n",
      "|Bank account or s...|       6540|\n",
      "|         Credit card|       6472|\n",
      "|       Consumer Loan|       2343|\n",
      "|        Student loan|       1827|\n",
      "|         Payday loan|        633|\n",
      "|     Money transfers|        507|\n",
      "|        Prepaid card|        190|\n",
      "|Other financial s...|         55|\n",
      "+--------------------+-----------+\n",
      "\n"
     ]
    }
   ],
   "source": [
    "#saving Query 2 into a df\n",
    "n_complaints = spark.sql('select Product_Name, count(*) as N_Complaint from complaint_df group \\\n",
    "by Product_Name order by N_Complaint desc')\n",
    "\n",
    "n_complaints.show()"
   ]
  },
  {
   "cell_type": "markdown",
   "id": "cbc71bc4-f028-4210-abb2-b8753d99679c",
   "metadata": {},
   "source": [
    "#### Query 4- Dropping all null values in a Column ('State_Code')"
   ]
  },
  {
   "cell_type": "code",
   "execution_count": 12,
   "id": "3d72475f-8c15-476b-b776-f1959f4fed1b",
   "metadata": {},
   "outputs": [
    {
     "data": {
      "text/plain": [
       "65021"
      ]
     },
     "execution_count": 12,
     "metadata": {},
     "output_type": "execute_result"
    }
   ],
   "source": [
    "#dropping all null values from the table\n",
    "complaint_df2 = complaint_df.na.drop(how = 'any', subset = ['State_Code'])\n",
    "\n",
    "#no of rows in new df\n",
    "complaint_df2.count()"
   ]
  },
  {
   "cell_type": "code",
   "execution_count": 13,
   "id": "b8662ba0-5cd4-4ae3-99a4-1c9c23ebf6f9",
   "metadata": {},
   "outputs": [],
   "source": [
    "#creating temp table\n",
    "complaint_df2.createOrReplaceTempView('complaint_df2')"
   ]
  },
  {
   "cell_type": "markdown",
   "id": "da96ed5e-b52b-4424-b7eb-6e9de03ea1c3",
   "metadata": {},
   "source": [
    "**Note** - SparkSQL queries can be saved into a DataFrame after the required results have been generated"
   ]
  },
  {
   "cell_type": "markdown",
   "id": "20d31cd4-abc9-4ebf-a0af-3fb5c7cf54d7",
   "metadata": {},
   "source": [
    "#### Query 5 - Filtering for only Equifax transaction using WHERE clause"
   ]
  },
  {
   "cell_type": "code",
   "execution_count": 14,
   "id": "f11dc5d3-98e4-4705-93bc-221d98950657",
   "metadata": {},
   "outputs": [
    {
     "name": "stdout",
     "output_type": "stream",
     "text": [
      "+---------+------------+----------------+--------------------+--------------+-------+----------+\n",
      "|     Date|Complaint_ID|    Product_Name|               Issue|Dispute_Amount|Company|State_Code|\n",
      "+---------+------------+----------------+--------------------+--------------+-------+----------+\n",
      "|7/29/2013|      469201|Credit reporting|Incorrect informa...|         16667|Equifax|        CA|\n",
      "|7/29/2013|      479282|Credit reporting|Improper use of m...|         11260|Equifax|        MO|\n",
      "|7/30/2013|      469792|Credit reporting|Incorrect informa...|         13566|Equifax|        NJ|\n",
      "|7/31/2013|      471000|Credit reporting|Incorrect informa...|         14461|Equifax|        MI|\n",
      "|7/31/2013|      480943|Credit reporting|Incorrect informa...|         14847|Equifax|        MO|\n",
      "+---------+------------+----------------+--------------------+--------------+-------+----------+\n",
      "only showing top 5 rows\n",
      "\n"
     ]
    }
   ],
   "source": [
    "spark.sql('Select Date, Complaint_ID, Product_Name, Issue, Dispute_Amount, Company, State_Code From complaint_df2 \\\n",
    "Where Company = \"Equifax\"').show(5)"
   ]
  },
  {
   "cell_type": "code",
   "execution_count": 15,
   "id": "cc88835e-a291-4a2d-98bc-041eb6962692",
   "metadata": {},
   "outputs": [],
   "source": [
    "equifax = spark.sql('Select Date, Complaint_ID, Product_Name, Issue, Dispute_Amount,Company, State_Code From complaint_df2 \\\n",
    "Where Company = \"Equifax\"')"
   ]
  },
  {
   "cell_type": "markdown",
   "id": "ed0a2d06-4a4c-4606-b2e8-94a84eacd138",
   "metadata": {},
   "source": [
    "#### Query 6 - SparkSQL Window Functions"
   ]
  },
  {
   "cell_type": "markdown",
   "id": "f2c490ef-076b-4637-a316-aafbfdcdfdb1",
   "metadata": {},
   "source": [
    "##### 6.1 - Row_Number in PySpark"
   ]
  },
  {
   "cell_type": "markdown",
   "id": "fdf8b2f9-d7ba-4de3-b7bb-7b628f85fb7e",
   "metadata": {},
   "source": [
    "While working with Windows function in PySpark, necessary libraries need to be imported. Also, the dataframe is usually partitioned before callign the required window function."
   ]
  },
  {
   "cell_type": "code",
   "execution_count": 16,
   "id": "ac29e585-8658-44f8-8e2e-a5564900c873",
   "metadata": {},
   "outputs": [],
   "source": [
    "#importing library\n",
    "from pyspark.sql.window import Window\n",
    "from pyspark.sql.functions import row_number\n",
    "\n",
    "#partition of dataframe\n",
    "windowPartition = Window.partitionBy(\"State_Code\").orderBy(\"Dispute_Amount\")"
   ]
  },
  {
   "cell_type": "code",
   "execution_count": 17,
   "id": "dabd1801-c957-4250-afd8-f833faa5a189",
   "metadata": {},
   "outputs": [
    {
     "name": "stdout",
     "output_type": "stream",
     "text": [
      "+----------+------------+----------------+--------------------+--------------+-------+----------+----------+\n",
      "|      Date|Complaint_ID|    Product_Name|               Issue|Dispute_Amount|Company|State_Code|row_number|\n",
      "+----------+------------+----------------+--------------------+--------------+-------+----------+----------+\n",
      "| 8/25/2014|      999116|Credit reporting|Incorrect informa...|          1772|Equifax|        AE|         1|\n",
      "| 4/22/2014|      819293|Credit reporting|Credit monitoring...|         11325|Equifax|        AE|         2|\n",
      "|  2/8/2014|      704784|Credit reporting|Credit reporting ...|         13676|Equifax|        AE|         3|\n",
      "| 5/30/2014|      874047|Credit reporting|Credit reporting ...|          2722|Equifax|        AK|         1|\n",
      "| 5/11/2014|      847015|Credit reporting|Unable to get cre...|          6469|Equifax|        AK|         2|\n",
      "| 5/23/2014|      865850|Credit reporting|Incorrect informa...|          6532|Equifax|        AK|         3|\n",
      "|  8/1/2013|      472184|Credit reporting|Credit reporting ...|          7233|Equifax|        AK|         4|\n",
      "|11/11/2014|     1111556|Credit reporting|Unable to get cre...|          9482|Equifax|        AK|         5|\n",
      "|  2/2/2015|     1219943|Credit reporting|Incorrect informa...|         10920|Equifax|        AK|         6|\n",
      "| 8/24/2013|      503518|Credit reporting|Incorrect informa...|          1478|Equifax|        AL|         1|\n",
      "| 7/28/2014|      957533|Credit reporting|Incorrect informa...|          1491|Equifax|        AL|         2|\n",
      "| 3/28/2014|      783151|Credit reporting|Incorrect informa...|          1597|Equifax|        AL|         3|\n",
      "| 7/11/2014|      933987|Credit reporting|Incorrect informa...|          2234|Equifax|        AL|         4|\n",
      "| 4/13/2014|      806535|Credit reporting|Incorrect informa...|          2787|Equifax|        AL|         5|\n",
      "| 6/25/2014|      909580|Credit reporting|Incorrect informa...|          2844|Equifax|        AL|         6|\n",
      "|11/25/2014|     1130881|Credit reporting|Incorrect informa...|          2924|Equifax|        AL|         7|\n",
      "|  8/7/2014|      973453|Credit reporting|Unable to get cre...|          2952|Equifax|        AL|         8|\n",
      "| 12/9/2014|     1148811|Credit reporting|Credit reporting ...|          3219|Equifax|        AL|         9|\n",
      "| 4/10/2015|     1324337|Credit reporting|Incorrect informa...|          3432|Equifax|        AL|        10|\n",
      "| 11/3/2014|     1099397|Credit reporting|Incorrect informa...|          3832|Equifax|        AL|        11|\n",
      "+----------+------------+----------------+--------------------+--------------+-------+----------+----------+\n",
      "only showing top 20 rows\n",
      "\n"
     ]
    }
   ],
   "source": [
    "equifax.withColumn(\"row_number\",row_number().over(windowPartition)).show()"
   ]
  },
  {
   "cell_type": "markdown",
   "id": "b4265ed9-a740-4d67-8b0d-8d36be812f62",
   "metadata": {},
   "source": [
    "##### 6.2 - Cummulative Distribution"
   ]
  },
  {
   "cell_type": "code",
   "execution_count": 18,
   "id": "9a55cfd7-394c-46d5-9612-cec8f119f5f6",
   "metadata": {},
   "outputs": [
    {
     "name": "stdout",
     "output_type": "stream",
     "text": [
      "+----------+------------+----------------+--------------------+--------------+-------+----------+--------------------+\n",
      "|      Date|Complaint_ID|    Product_Name|               Issue|Dispute_Amount|Company|State_Code|           cume_dist|\n",
      "+----------+------------+----------------+--------------------+--------------+-------+----------+--------------------+\n",
      "| 8/25/2014|      999116|Credit reporting|Incorrect informa...|          1772|Equifax|        AE|  0.3333333333333333|\n",
      "| 4/22/2014|      819293|Credit reporting|Credit monitoring...|         11325|Equifax|        AE|  0.6666666666666666|\n",
      "|  2/8/2014|      704784|Credit reporting|Credit reporting ...|         13676|Equifax|        AE|                 1.0|\n",
      "| 5/30/2014|      874047|Credit reporting|Credit reporting ...|          2722|Equifax|        AK| 0.16666666666666666|\n",
      "| 5/11/2014|      847015|Credit reporting|Unable to get cre...|          6469|Equifax|        AK|  0.3333333333333333|\n",
      "| 5/23/2014|      865850|Credit reporting|Incorrect informa...|          6532|Equifax|        AK|                 0.5|\n",
      "|  8/1/2013|      472184|Credit reporting|Credit reporting ...|          7233|Equifax|        AK|  0.6666666666666666|\n",
      "|11/11/2014|     1111556|Credit reporting|Unable to get cre...|          9482|Equifax|        AK|  0.8333333333333334|\n",
      "|  2/2/2015|     1219943|Credit reporting|Incorrect informa...|         10920|Equifax|        AK|                 1.0|\n",
      "| 8/24/2013|      503518|Credit reporting|Incorrect informa...|          1478|Equifax|        AL|0.016666666666666666|\n",
      "| 7/28/2014|      957533|Credit reporting|Incorrect informa...|          1491|Equifax|        AL| 0.03333333333333333|\n",
      "| 3/28/2014|      783151|Credit reporting|Incorrect informa...|          1597|Equifax|        AL|                0.05|\n",
      "| 7/11/2014|      933987|Credit reporting|Incorrect informa...|          2234|Equifax|        AL| 0.06666666666666667|\n",
      "| 4/13/2014|      806535|Credit reporting|Incorrect informa...|          2787|Equifax|        AL| 0.08333333333333333|\n",
      "| 6/25/2014|      909580|Credit reporting|Incorrect informa...|          2844|Equifax|        AL|                 0.1|\n",
      "|11/25/2014|     1130881|Credit reporting|Incorrect informa...|          2924|Equifax|        AL| 0.11666666666666667|\n",
      "|  8/7/2014|      973453|Credit reporting|Unable to get cre...|          2952|Equifax|        AL| 0.13333333333333333|\n",
      "| 12/9/2014|     1148811|Credit reporting|Credit reporting ...|          3219|Equifax|        AL|                0.15|\n",
      "| 4/10/2015|     1324337|Credit reporting|Incorrect informa...|          3432|Equifax|        AL| 0.16666666666666666|\n",
      "| 11/3/2014|     1099397|Credit reporting|Incorrect informa...|          3832|Equifax|        AL| 0.18333333333333332|\n",
      "+----------+------------+----------------+--------------------+--------------+-------+----------+--------------------+\n",
      "only showing top 20 rows\n",
      "\n"
     ]
    }
   ],
   "source": [
    "# importing cume_dist() from pyspark.sql.functions\n",
    "from pyspark.sql.functions import cume_dist\n",
    " \n",
    "# applying window function with\n",
    "# the help of DataFrame.withColumn\n",
    "equifax.withColumn(\"cume_dist\",cume_dist().over(windowPartition)).show()"
   ]
  },
  {
   "cell_type": "markdown",
   "id": "374a3cd9-1734-4886-9c9f-3063755c54a7",
   "metadata": {},
   "source": [
    "#### Query 7 - SparkSQL Datetime Functions"
   ]
  },
  {
   "cell_type": "markdown",
   "id": "b3c9a1c7-7340-4e10-9eec-bb2d2072608c",
   "metadata": {},
   "source": [
    "The default format of the Timestamp in PySpark is **\"MM-dd-yyyy HH:mm: ss.SSS,\"** and also Time Parsers has to be set to negative or else null values are returned. Necessary libraries also have to be imported."
   ]
  },
  {
   "cell_type": "code",
   "execution_count": 19,
   "id": "85c5a185-bf5d-4a54-ba08-bd2c393d1a87",
   "metadata": {},
   "outputs": [
    {
     "data": {
      "text/plain": [
       "DataFrame[key: string, value: string]"
      ]
     },
     "execution_count": 19,
     "metadata": {},
     "output_type": "execute_result"
    }
   ],
   "source": [
    "#converting Date column from String to TimeStamp Data Type\n",
    "from pyspark.sql.functions import *\n",
    "\n",
    "#setting up timestamp parserset \n",
    "spark.sql(\"set spark.sql.legacy.timeParserPolicy=LEGACY\")"
   ]
  },
  {
   "cell_type": "code",
   "execution_count": 20,
   "id": "70499d26-70dd-4ea4-b5d6-3ff41a32469d",
   "metadata": {},
   "outputs": [],
   "source": [
    "#converting Date column from String to TimeStamp Data Type\n",
    "from pyspark.sql.functions import to_date, date_format, to_timestamp\n",
    "\n",
    "complaint_df3 = complaint_df2.withColumn('New_Date', to_date('Date', 'MM/dd/yyyy'))"
   ]
  },
  {
   "cell_type": "code",
   "execution_count": 21,
   "id": "5bbf1ce6-7f1f-4604-9890-8b2c99bdf2ee",
   "metadata": {},
   "outputs": [
    {
     "name": "stdout",
     "output_type": "stream",
     "text": [
      "+---------+--------------------+--------------------+--------------+--------------------+---------+--------------------+----------+--------+--------------+----------------+-------------+--------------------+---------------+-----------------+------------+----------+\n",
      "|     Date|        Product_Name|         Sub_Product|Dispute_Amount|               Issue|Sub_Issue|             Company|State_Code|Zip_Code|          Tags|Consent_Provided|Submitted_Via|      Response_Stage|Timely_Response|Consumer_Disputed|Complaint_ID|  New_Date|\n",
      "+---------+--------------------+--------------------+--------------+--------------------+---------+--------------------+----------+--------+--------------+----------------+-------------+--------------------+---------------+-----------------+------------+----------+\n",
      "|7/29/2013|       Consumer Loan|        Vehicle loan|         17113|Managing the loan...|     null|Wells Fargo & Com...|        VA|   24540|          null|             N/A|        Phone|Closed with expla...|            Yes|               No|      468882|2013-07-29|\n",
      "|7/29/2013|Bank account or s...|    Checking account|         12745|Using a debit or ...|     null|Wells Fargo & Com...|        CA|   95992|Older American|             N/A|          Web|Closed with expla...|            Yes|               No|      468889|2013-07-29|\n",
      "|7/29/2013|Bank account or s...|    Checking account|         11654|Account opening, ...|     null|   Santander Bank US|        NY|   10065|          null|             N/A|          Fax|              Closed|            Yes|               No|      468879|2013-07-29|\n",
      "|7/29/2013|Bank account or s...|    Checking account|         18322|Deposits and with...|     null|Wells Fargo & Com...|        GA|   30084|          null|             N/A|          Web|Closed with expla...|            Yes|               No|      468949|2013-07-29|\n",
      "|7/29/2013|            Mortgage|Conventional fixe...|         12041|Loan servicing, p...|     null|Franklin Credit M...|        CT|    6106|          null|             N/A|          Web|Closed with expla...|            Yes|               No|      475823|2013-07-29|\n",
      "+---------+--------------------+--------------------+--------------+--------------------+---------+--------------------+----------+--------+--------------+----------------+-------------+--------------------+---------------+-----------------+------------+----------+\n",
      "only showing top 5 rows\n",
      "\n",
      "root\n",
      " |-- Date: string (nullable = true)\n",
      " |-- Product_Name: string (nullable = true)\n",
      " |-- Sub_Product: string (nullable = true)\n",
      " |-- Dispute_Amount: integer (nullable = true)\n",
      " |-- Issue: string (nullable = true)\n",
      " |-- Sub_Issue: string (nullable = true)\n",
      " |-- Company: string (nullable = true)\n",
      " |-- State_Code: string (nullable = true)\n",
      " |-- Zip_Code: string (nullable = true)\n",
      " |-- Tags: string (nullable = true)\n",
      " |-- Consent_Provided: string (nullable = true)\n",
      " |-- Submitted_Via: string (nullable = true)\n",
      " |-- Response_Stage: string (nullable = true)\n",
      " |-- Timely_Response: string (nullable = true)\n",
      " |-- Consumer_Disputed: string (nullable = true)\n",
      " |-- Complaint_ID: integer (nullable = true)\n",
      " |-- New_Date: date (nullable = true)\n",
      "\n"
     ]
    }
   ],
   "source": [
    "#schema shows New Date column has been converted\n",
    "complaint_df3.show(5)\n",
    "complaint_df3.printSchema()"
   ]
  },
  {
   "cell_type": "code",
   "execution_count": 22,
   "id": "0d6b5f27-aaec-44a3-96f7-227342985d3b",
   "metadata": {},
   "outputs": [],
   "source": [
    "#creating temp table\n",
    "complaint_df3.createOrReplaceTempView('complaint_df3')"
   ]
  },
  {
   "cell_type": "markdown",
   "id": "f9478b1e-71a3-42a8-8526-89384400ad90",
   "metadata": {},
   "source": [
    "##### 7.1 - Extracting Datetime Elements"
   ]
  },
  {
   "cell_type": "code",
   "execution_count": 23,
   "id": "6494d241-5ea2-4750-adf9-1b6729f95206",
   "metadata": {},
   "outputs": [],
   "source": [
    "#sampling complaint_df3 table\n",
    "sample_df2 = spark.sql('select * from complaint_df3 Tablesample (0.2 Percent)')"
   ]
  },
  {
   "cell_type": "code",
   "execution_count": 24,
   "id": "d8b67209-5eea-48a5-8292-3e599eb3a2de",
   "metadata": {},
   "outputs": [
    {
     "name": "stdout",
     "output_type": "stream",
     "text": [
      "+----------+---------+----------+---------+\n",
      "|  New_Date|dayofweek|dayofmonth|dayofyear|\n",
      "+----------+---------+----------+---------+\n",
      "|2013-08-01|        5|         1|      213|\n",
      "|2013-07-23|        3|        23|      204|\n",
      "|2013-08-13|        3|        13|      225|\n",
      "|2013-07-25|        5|        25|      206|\n",
      "|2013-08-03|        7|         3|      215|\n",
      "|2013-09-09|        2|         9|      252|\n",
      "|2013-09-03|        3|         3|      246|\n",
      "|2013-09-13|        6|        13|      256|\n",
      "|2013-09-05|        5|         5|      248|\n",
      "|2013-10-17|        5|        17|      290|\n",
      "|2013-10-17|        5|        17|      290|\n",
      "|2013-10-17|        5|        17|      290|\n",
      "|2013-10-17|        5|        17|      290|\n",
      "|2013-10-18|        6|        18|      291|\n",
      "|2013-10-31|        5|        31|      304|\n",
      "|2013-11-22|        6|        22|      326|\n",
      "|2013-11-22|        6|        22|      326|\n",
      "|2013-10-27|        1|        27|      300|\n",
      "|2013-11-24|        1|        24|      328|\n",
      "|2013-10-23|        4|        23|      296|\n",
      "+----------+---------+----------+---------+\n",
      "only showing top 20 rows\n",
      "\n"
     ]
    }
   ],
   "source": [
    "sample_df2.select(col(\"New_Date\"), dayofweek(col(\"New_Date\")).alias(\"dayofweek\"),\n",
    "                     dayofmonth(col(\"New_Date\")).alias(\"dayofmonth\"), dayofyear(col(\"New_Date\")).alias(\"dayofyear\") ).show()"
   ]
  },
  {
   "cell_type": "markdown",
   "id": "625526a8-d4ff-44e7-8567-80bf038e7183",
   "metadata": {},
   "source": [
    "##### 7.2 - Number of Complaints by Month"
   ]
  },
  {
   "cell_type": "code",
   "execution_count": 25,
   "id": "ca226e9d-19bd-410a-9e86-6930bdb5a4e9",
   "metadata": {},
   "outputs": [
    {
     "name": "stdout",
     "output_type": "stream",
     "text": [
      "+---------------+-----------+\n",
      "|month(New_Date)|N_Complaint|\n",
      "+---------------+-----------+\n",
      "|             12|       5164|\n",
      "|              1|       6272|\n",
      "|              6|       3081|\n",
      "|              3|       6929|\n",
      "|              9|       5382|\n",
      "|              4|       6706|\n",
      "|              8|       5641|\n",
      "|              7|       4103|\n",
      "|             10|       5486|\n",
      "|             11|       5117|\n",
      "|              2|       6494|\n",
      "|              5|       4646|\n",
      "+---------------+-----------+\n",
      "\n"
     ]
    }
   ],
   "source": [
    "spark.sql('select month(New_Date), count(*) as N_Complaint from complaint_df3 group by month(New_Date)').show()"
   ]
  },
  {
   "cell_type": "markdown",
   "id": "167685fe-e6cf-4347-b8bb-d54c6c605727",
   "metadata": {},
   "source": [
    "##### 7.3- Yearly Dispute Sum"
   ]
  },
  {
   "cell_type": "code",
   "execution_count": 26,
   "id": "e4b3dd0e-88b6-4fa1-af4e-da7c448f3c0b",
   "metadata": {},
   "outputs": [
    {
     "name": "stdout",
     "output_type": "stream",
     "text": [
      "+----+-----------+\n",
      "|Year|Dispute_Sum|\n",
      "+----+-----------+\n",
      "|2013|  133981908|\n",
      "|2014|  397938198|\n",
      "|2015|  156077900|\n",
      "+----+-----------+\n",
      "\n"
     ]
    }
   ],
   "source": [
    "spark.sql('select year(New_Date) as Year, sum(Dispute_Amount) as Dispute_Sum from complaint_df3 group by \\\n",
    "           year(New_Date) order by year(New_Date)').show()"
   ]
  },
  {
   "cell_type": "markdown",
   "id": "a54dc25b-efbb-4ae1-9d8e-f38fc9a6d3c1",
   "metadata": {},
   "source": [
    "#### Query 8 - Case When Statements"
   ]
  },
  {
   "cell_type": "code",
   "execution_count": 27,
   "id": "6f45f2c0-1105-43bc-a77d-6314e8907d34",
   "metadata": {},
   "outputs": [
    {
     "name": "stdout",
     "output_type": "stream",
     "text": [
      "+---------+------------+----------------+--------------------+--------------+-------+----------+---------------+\n",
      "|     Date|Complaint_ID|    Product_Name|               Issue|Dispute_Amount|Company|State_Code|Amount_Category|\n",
      "+---------+------------+----------------+--------------------+--------------+-------+----------+---------------+\n",
      "|7/29/2013|      469201|Credit reporting|Incorrect informa...|         16667|Equifax|        CA|           High|\n",
      "|7/29/2013|      479282|Credit reporting|Improper use of m...|         11260|Equifax|        MO|            Mid|\n",
      "|7/30/2013|      469792|Credit reporting|Incorrect informa...|         13566|Equifax|        NJ|            Mid|\n",
      "|7/31/2013|      471000|Credit reporting|Incorrect informa...|         14461|Equifax|        MI|            Mid|\n",
      "|7/31/2013|      480943|Credit reporting|Incorrect informa...|         14847|Equifax|        MO|            Mid|\n",
      "|7/31/2013|      471166|Credit reporting|Incorrect informa...|         13409|Equifax|        CO|            Mid|\n",
      "|7/31/2013|      471227|Credit reporting|Incorrect informa...|          8817|Equifax|        WA|            Mid|\n",
      "|7/22/2013|      463345|Credit reporting|Incorrect informa...|          7578|Equifax|        NY|            Mid|\n",
      "|7/22/2013|      463491|Credit reporting|Incorrect informa...|         19498|Equifax|        CA|           High|\n",
      "|7/23/2013|      457178|Credit reporting|Incorrect informa...|          8735|Equifax|        GA|            Mid|\n",
      "| 8/6/2013|      482083|Credit reporting|Incorrect informa...|         14223|Equifax|        OR|            Mid|\n",
      "|7/23/2013|      462445|Credit reporting|Incorrect informa...|          6899|Equifax|        NY|            Mid|\n",
      "| 8/7/2013|      482494|Credit reporting|Incorrect informa...|         11478|Equifax|        VA|            Mid|\n",
      "|7/23/2013|      464108|Credit reporting|Unable to get cre...|         16869|Equifax|        NE|           High|\n",
      "| 8/7/2013|      482474|Credit reporting|Credit reporting ...|          4877|Equifax|        CA|            Low|\n",
      "|7/24/2013|      465296|Credit reporting|Unable to get cre...|         12279|Equifax|        PR|            Mid|\n",
      "| 8/7/2013|      482487|Credit reporting|Incorrect informa...|         19205|Equifax|        LA|           High|\n",
      "|7/23/2013|      479385|Credit reporting|Credit reporting ...|          8641|Equifax|        PA|            Mid|\n",
      "|7/23/2013|      476022|Credit reporting|Incorrect informa...|          9498|Equifax|        MA|            Mid|\n",
      "| 8/7/2013|      482868|Credit reporting|Unable to get cre...|         13831|Equifax|        PA|            Mid|\n",
      "+---------+------------+----------------+--------------------+--------------+-------+----------+---------------+\n",
      "only showing top 20 rows\n",
      "\n"
     ]
    }
   ],
   "source": [
    "category_df = equifax.withColumn(\"Amount_Category\", expr(\"CASE WHEN Dispute_Amount <= 5000 THEN 'Low' \" + \n",
    "               \"WHEN Dispute_Amount between 5001 and 15000 THEN 'Mid' WHEN Dispute_Amount >= 15000 THEN 'High'\" +\n",
    "               \"ELSE 'Unknown' END\")).show()"
   ]
  },
  {
   "cell_type": "code",
   "execution_count": null,
   "id": "52167d06-2351-4e33-af47-130de250e8f9",
   "metadata": {},
   "outputs": [],
   "source": []
  }
 ],
 "metadata": {
  "kernelspec": {
   "display_name": "Python 3 (ipykernel)",
   "language": "python",
   "name": "python3"
  },
  "language_info": {
   "codemirror_mode": {
    "name": "ipython",
    "version": 3
   },
   "file_extension": ".py",
   "mimetype": "text/x-python",
   "name": "python",
   "nbconvert_exporter": "python",
   "pygments_lexer": "ipython3",
   "version": "3.10.9"
  }
 },
 "nbformat": 4,
 "nbformat_minor": 5
}
